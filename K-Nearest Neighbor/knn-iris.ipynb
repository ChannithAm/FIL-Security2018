{
 "cells": [
  {
   "cell_type": "markdown",
   "metadata": {},
   "source": [
    "# Implement k-Nearest Neighbors in Python\n",
    "\n",
    "    1. Xem xét dữ liệu\n",
    "    1.1. Training set\n",
    "    1.2. Test set\n",
    "    2. Import thư viện\n",
    "    3. Load data (tải dữ liệu)\n",
    "    4. Biến đổi giá trị attribute thành float number\n",
    "    5. Nhận nhãn dữ liệu huấn luyện\n",
    "    6. Tìm k-neighbor\n",
    "    7. Gán nhãn có dữ liệu thử nhiệm với maximum vote\n",
    "    \n",
    "# Đặt vấn đề\n",
    "\n",
    "    Chúng ta có:\n",
    "    - Một tập dữ liệu huấn luyện (training set) và \n",
    "    - Một tập dữ liệu cần được phân lớp là nó thuộc trong class nào (test set)\n",
    "(Class và label trong bài này mình coi như là có ý nghĩa giống nhau)\n",
    "\n",
    "# Cách thực hiện\n",
    "\n",
    "    Trong bài toán classification, nhãn của dữ liệu mới được suy ra từ K điểm dữ liệu trong training set gần nhất. Nhãn đó được quyết định bằng bầu chọn theo số phiếu giữa các điểm gần nhất.\n",
    "    \n",
    "# Algorithm\n",
    "```\n",
    "    Input: Training set, Test set\n",
    "    Output: Label for test data point in Test set\n",
    "    \n",
    "    Foreach x in Test_set do\n",
    "        Compute distances(x, yi) // yi in Training_set\n",
    "        sort the computed distances\n",
    "        select k-nearest neighbor corresponding to k smallest distances;\n",
    "```"
   ]
  },
  {
   "cell_type": "markdown",
   "metadata": {},
   "source": [
    "# 1. Xem xet dữ liệu\n",
    "\n",
    "Trong cùng thư mục này có hai tệp:\n",
    "    - irist.csv : là training set\n",
    "    - iris-test.csv : là test set\n",
    "    \n",
    "Trong đó training set và test set gồm có attributes và nhãn.\n",
    "\n",
    "* Attributes:\n",
    "    * sepal-length\n",
    "    * sepal-width\n",
    "    * petal-length\n",
    "    * petal-width\n",
    "* Nhãn (class):\n",
    "    * Iris-setosa\n",
    "    * Iris-versicolor\n",
    "    * Iris-virginica\n",
    "    \n",
    "Tổng: 150 hàng, 5 cột."
   ]
  },
  {
   "cell_type": "code",
   "execution_count": 1,
   "metadata": {},
   "outputs": [],
   "source": [
    "# Iris dataset\n",
    "import pandas\n",
    "names = ['sepal-length', 'sepal-width', 'petal-length', 'petal-width', 'class']\n",
    "training_data = pandas.read_csv('iris.csv', names=names)\n",
    "test_data = pandas.read_csv('iris-test.csv', names=names)"
   ]
  },
  {
   "cell_type": "markdown",
   "metadata": {},
   "source": [
    "# 1.1 Training set"
   ]
  },
  {
   "cell_type": "code",
   "execution_count": 2,
   "metadata": {},
   "outputs": [
    {
     "name": "stdout",
     "output_type": "stream",
     "text": [
      "(150, 5)\n"
     ]
    }
   ],
   "source": [
    "print(training_data.shape)"
   ]
  },
  {
   "cell_type": "code",
   "execution_count": 3,
   "metadata": {},
   "outputs": [
    {
     "name": "stdout",
     "output_type": "stream",
     "text": [
      "   sepal-length  sepal-width  petal-length  petal-width   class\n",
      "0           5.1          3.5           1.4          0.2  setosa\n",
      "1           4.9          3.0           1.4          0.2  setosa\n",
      "2           4.7          3.2           1.3          0.2  setosa\n",
      "3           4.6          3.1           1.5          0.2  setosa\n",
      "4           5.0          3.6           1.4          0.2  setosa\n",
      "5           5.4          3.9           1.7          0.4  setosa\n",
      "6           4.6          3.4           1.4          0.3  setosa\n",
      "7           5.0          3.4           1.5          0.2  setosa\n",
      "8           4.4          2.9           1.4          0.2  setosa\n",
      "9           4.9          3.1           1.5          0.1  setosa\n"
     ]
    }
   ],
   "source": [
    "# head\n",
    "print(training_data.head(10))"
   ]
  },
  {
   "cell_type": "code",
   "execution_count": 4,
   "metadata": {},
   "outputs": [
    {
     "name": "stdout",
     "output_type": "stream",
     "text": [
      "class\n",
      "setosa        50\n",
      "versicolor    50\n",
      "virginica     50\n",
      "dtype: int64\n"
     ]
    }
   ],
   "source": [
    "# class distribution\n",
    "print(training_data.groupby('class').size())"
   ]
  },
  {
   "cell_type": "code",
   "execution_count": 5,
   "metadata": {},
   "outputs": [
    {
     "name": "stdout",
     "output_type": "stream",
     "text": [
      "       sepal-length  sepal-width  petal-length  petal-width\n",
      "count    150.000000   150.000000    150.000000   150.000000\n",
      "mean       5.843333     3.054000      3.758667     1.198667\n",
      "std        0.828066     0.433594      1.764420     0.763161\n",
      "min        4.300000     2.000000      1.000000     0.100000\n",
      "25%        5.100000     2.800000      1.600000     0.300000\n",
      "50%        5.800000     3.000000      4.350000     1.300000\n",
      "75%        6.400000     3.300000      5.100000     1.800000\n",
      "max        7.900000     4.400000      6.900000     2.500000\n"
     ]
    }
   ],
   "source": [
    "# statistical summary\n",
    "print(training_data.describe())"
   ]
  },
  {
   "cell_type": "markdown",
   "metadata": {},
   "source": [
    "# 1.2. Test set"
   ]
  },
  {
   "cell_type": "code",
   "execution_count": 6,
   "metadata": {},
   "outputs": [
    {
     "name": "stdout",
     "output_type": "stream",
     "text": [
      "(12, 5)\n"
     ]
    }
   ],
   "source": [
    "# Test data\n",
    "print(test_data.shape)"
   ]
  },
  {
   "cell_type": "code",
   "execution_count": 7,
   "metadata": {},
   "outputs": [
    {
     "name": "stdout",
     "output_type": "stream",
     "text": [
      "    sepal-length  sepal-width  petal-length  petal-width  class\n",
      "0            4.3          2.9           1.7          0.3    NaN\n",
      "1            4.6          2.7           1.5          0.2    NaN\n",
      "2            5.3          3.4           1.6          0.2    NaN\n",
      "3            5.2          4.1           1.5          0.1    NaN\n",
      "4            6.0          2.2           4.2          1.0    NaN\n",
      "5            6.2          2.3           4.5          1.5    NaN\n",
      "6            5.0          2.1           3.6          1.2    NaN\n",
      "7            6.6          2.8           5.4          2.0    NaN\n",
      "8            6.4          3.2           5.3          2.3    NaN\n",
      "9            7.0          3.1           5.5          1.8    NaN\n",
      "10           6.2          3.3           5.9          2.1    NaN\n",
      "11           6.6          2.9           5.3          2.3    NaN\n"
     ]
    }
   ],
   "source": [
    "print(test_data)"
   ]
  },
  {
   "cell_type": "code",
   "execution_count": 8,
   "metadata": {},
   "outputs": [
    {
     "name": "stdout",
     "output_type": "stream",
     "text": [
      "       sepal-length  sepal-width  petal-length  petal-width  class\n",
      "count     12.000000    12.000000     12.000000    12.000000    0.0\n",
      "mean       5.783333     2.916667      3.833333     1.250000    NaN\n",
      "std        0.872648     0.565418      1.780364     0.871258    NaN\n",
      "min        4.300000     2.100000      1.500000     0.100000    NaN\n",
      "25%        5.150000     2.600000      1.675000     0.275000    NaN\n",
      "50%        6.100000     2.900000      4.350000     1.350000    NaN\n",
      "75%        6.450000     3.225000      5.325000     2.025000    NaN\n",
      "max        7.000000     4.100000      5.900000     2.300000    NaN\n"
     ]
    }
   ],
   "source": [
    "print(test_data.describe())"
   ]
  },
  {
   "cell_type": "markdown",
   "metadata": {},
   "source": [
    "# Implement KNN in Python"
   ]
  },
  {
   "cell_type": "markdown",
   "metadata": {},
   "source": [
    "# 2. Import thư viện"
   ]
  },
  {
   "cell_type": "code",
   "execution_count": 9,
   "metadata": {},
   "outputs": [],
   "source": [
    "# Import library\n",
    "from csv import reader\n",
    "from sys import exit\n",
    "from math import sqrt\n",
    "from operator import itemgetter"
   ]
  },
  {
   "cell_type": "markdown",
   "metadata": {},
   "source": [
    "# 3. Load data"
   ]
  },
  {
   "cell_type": "code",
   "execution_count": 10,
   "metadata": {},
   "outputs": [],
   "source": [
    "# 1. Load dataset\n",
    "def load_data_set(filename):\n",
    "    try:\n",
    "        with open(filename, newline='') as iris:\n",
    "            return list(reader(iris, delimiter=','))\n",
    "    except FileNotFoundError as e:\n",
    "        raise e"
   ]
  },
  {
   "cell_type": "markdown",
   "metadata": {},
   "source": [
    "# 4. Biến đổi giá trị của attribute thành float number"
   ]
  },
  {
   "cell_type": "code",
   "execution_count": 11,
   "metadata": {},
   "outputs": [],
   "source": [
    "# Convert\n",
    "def convert_to_float(data_set, mode):\n",
    "    new_set = []\n",
    "    try:\n",
    "        if mode == 'training':\n",
    "            for data in data_set:\n",
    "                new_set.append([float(x) for x in data[:len(data)-1]] + [data[len(data)-1]])\n",
    "\n",
    "        elif mode == 'test':\n",
    "            for data in data_set:\n",
    "                new_set.append([float(x) for x in data])\n",
    "\n",
    "        else:\n",
    "            print('Invalid mode, program will exit.')\n",
    "            exit()\n",
    "\n",
    "        return new_set\n",
    "\n",
    "    except ValueError as v:\n",
    "        print(v)\n",
    "        print('Invalid data set format, program will exit.')\n",
    "        exit()\n",
    "        "
   ]
  },
  {
   "cell_type": "markdown",
   "metadata": {},
   "source": [
    "# 5. Nhận nhãn dữ liệu"
   ]
  },
  {
   "cell_type": "code",
   "execution_count": 12,
   "metadata": {},
   "outputs": [],
   "source": [
    "# get class\n",
    "def get_classes(training_set):\n",
    "    return list(set([c[-1] for c in training_set]))"
   ]
  },
  {
   "cell_type": "markdown",
   "metadata": {},
   "source": [
    "# 6. Tìm số k-Neighbors ứng với khoảng cách của nó"
   ]
  },
  {
   "cell_type": "code",
   "execution_count": 13,
   "metadata": {},
   "outputs": [],
   "source": [
    "# Find K-Nearest Neightbors\n",
    "def find_neighbors(distances, k):\n",
    "    return distances[0:k]"
   ]
  },
  {
   "cell_type": "markdown",
   "metadata": {},
   "source": [
    "# 7. Gán nhãn cho dữ liệu dựa vào maximum vote"
   ]
  },
  {
   "cell_type": "code",
   "execution_count": 14,
   "metadata": {},
   "outputs": [],
   "source": [
    "# Find response\n",
    "def find_response(neighbors, classes):\n",
    "    votes = [0] * len(classes)\n",
    "\n",
    "    for instance in neighbors:\n",
    "        for ctr, c in enumerate(classes):\n",
    "            if instance[-2] == c:\n",
    "                votes[ctr] += 1\n",
    "\n",
    "    return max(enumerate(votes), key=itemgetter(1))"
   ]
  },
  {
   "cell_type": "markdown",
   "metadata": {},
   "source": [
    "# 8. Thuật toán KNN"
   ]
  },
  {
   "cell_type": "code",
   "execution_count": 15,
   "metadata": {},
   "outputs": [],
   "source": [
    "# KNN\n",
    "def knn(training_set, test_set, k):\n",
    "    distances = []\n",
    "    dist = 0\n",
    "    limit = len(training_set[0]) - 1\n",
    "\n",
    "    # generate response classes from training data\n",
    "    classes = get_classes(training_set)\n",
    "\n",
    "    try:\n",
    "        for test_instance in test_set:\n",
    "            for row in training_set:\n",
    "                for x, y in zip(row[:limit], test_instance):\n",
    "                    dist += (x-y) * (x-y)\n",
    "                distances.append(row + [sqrt(dist)])\n",
    "                dist = 0\n",
    "\n",
    "            distances.sort(key=itemgetter(len(distances[0])-1))\n",
    "\n",
    "            # find k nearest neighbors\n",
    "            neighbors = find_neighbors(distances, k)\n",
    "\n",
    "            # get the class with maximum votes\n",
    "            index, value = find_response(neighbors, classes)\n",
    "\n",
    "            # Display prediction\n",
    "            print('The predicted class for sample ' + str(test_instance) + ' is : ' + classes[index])\n",
    "            print('Number of votes : ' + str(value) + ' out of ' + str(k))\n",
    "\n",
    "            # empty the distance list\n",
    "            distances.clear()\n",
    "\n",
    "    except Exception as e:\n",
    "        print(e)"
   ]
  },
  {
   "cell_type": "markdown",
   "metadata": {},
   "source": [
    "# 9. Chương trình chính"
   ]
  },
  {
   "cell_type": "code",
   "execution_count": 16,
   "metadata": {},
   "outputs": [
    {
     "name": "stdout",
     "output_type": "stream",
     "text": [
      "Enter the value of k : 5\n",
      "Enter name of training data file : iris.csv\n",
      "Enter name of test data file : iris-test.csv\n",
      "The predicted class for sample [4.3, 2.9, 1.7, 0.3] is : setosa\n",
      "Number of votes : 5 out of 5\n",
      "The predicted class for sample [4.6, 2.7, 1.5, 0.2] is : setosa\n",
      "Number of votes : 5 out of 5\n",
      "The predicted class for sample [5.3, 3.4, 1.6, 0.2] is : setosa\n",
      "Number of votes : 5 out of 5\n",
      "The predicted class for sample [5.2, 4.1, 1.5, 0.1] is : setosa\n",
      "Number of votes : 5 out of 5\n",
      "The predicted class for sample [6.0, 2.2, 4.2, 1.0] is : versicolor\n",
      "Number of votes : 5 out of 5\n",
      "The predicted class for sample [6.2, 2.3, 4.5, 1.5] is : versicolor\n",
      "Number of votes : 4 out of 5\n",
      "The predicted class for sample [5.0, 2.1, 3.6, 1.2] is : versicolor\n",
      "Number of votes : 5 out of 5\n",
      "The predicted class for sample [6.6, 2.8, 5.4, 2.0] is : virginica\n",
      "Number of votes : 5 out of 5\n",
      "The predicted class for sample [6.4, 3.2, 5.3, 2.3] is : virginica\n",
      "Number of votes : 5 out of 5\n",
      "The predicted class for sample [7.0, 3.1, 5.5, 1.8] is : virginica\n",
      "Number of votes : 5 out of 5\n",
      "The predicted class for sample [6.2, 3.3, 5.9, 2.1] is : virginica\n",
      "Number of votes : 5 out of 5\n",
      "The predicted class for sample [6.6, 2.9, 5.3, 2.3] is : virginica\n",
      "Number of votes : 5 out of 5\n",
      "Accuracy: \n"
     ]
    }
   ],
   "source": [
    "# Main\n",
    "def main():\n",
    "    try:\n",
    "        # get value of k\n",
    "        k = int(input('Enter the value of k : '))\n",
    "\n",
    "        # load the training and test data set\n",
    "        training_file = input('Enter name of training data file : ')\n",
    "        test_file = input('Enter name of test data file : ')\n",
    "        training_set = convert_to_float(load_data_set(training_file), 'training')\n",
    "        test_set = convert_to_float(load_data_set(test_file), 'test')\n",
    "\n",
    "        if not training_set:\n",
    "            print('Empty training set')\n",
    "\n",
    "        elif not test_set:\n",
    "            print('Empty test set')\n",
    "\n",
    "        elif k > len(training_set):\n",
    "            print('Expected number of neighbors is higher than number of training data instances')\n",
    "\n",
    "        else:\n",
    "            knn(training_set, test_set, k)\n",
    "            print('Accuracy: ')\n",
    "        \n",
    "        \n",
    "\n",
    "    except ValueError as v:\n",
    "        print(v)\n",
    "\n",
    "    except FileNotFoundError:\n",
    "        print('File not found')\n",
    "\n",
    "\n",
    "if __name__ == '__main__':\n",
    "    main()"
   ]
  }
 ],
 "metadata": {
  "kernelspec": {
   "display_name": "Python 3",
   "language": "python",
   "name": "python3"
  },
  "language_info": {
   "codemirror_mode": {
    "name": "ipython",
    "version": 3
   },
   "file_extension": ".py",
   "mimetype": "text/x-python",
   "name": "python",
   "nbconvert_exporter": "python",
   "pygments_lexer": "ipython3",
   "version": "3.5.2"
  }
 },
 "nbformat": 4,
 "nbformat_minor": 2
}
